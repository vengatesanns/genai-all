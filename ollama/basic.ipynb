{
 "cells": [
  {
   "cell_type": "markdown",
   "metadata": {},
   "source": [
    "# Basic Code with Ollama"
   ]
  },
  {
   "cell_type": "code",
   "execution_count": 2,
   "metadata": {},
   "outputs": [
    {
     "data": {
      "text/plain": [
       "'What a fun prompt! Here are 10 potential song title ideas about parrots:\\n\\n1. \"Squawkin\\' Good Time\"\\n2. \"Rainbow Rhapsody\" (inspired by the colorful plumage of some parrot species)\\n3. \"Flock Together\"\\n4. \"Parrot\\'s Perch\"\\n5. \"The Talkative Tones\" (referencing their famous mimicry abilities)\\n6. \"Winged Whispers\"\\n7. \"Sunset Squawks\" (capturing the vibrant colors and lively atmosphere of a parrot-filled sunset)\\n8. \"Feathered Friends Forever\"\\n9. \"Polly\\'s Party\" (a playful nod to the classic nickname for parrots, Polly)\\n10. \"Vocal Vibrations\"\\n\\nI hope one of these song title ideas sparks your creativity!'"
      ]
     },
     "execution_count": 2,
     "metadata": {},
     "output_type": "execute_result"
    }
   ],
   "source": [
    "from langchain_ollama import OllamaLLM\n",
    "\n",
    "model = OllamaLLM(model=\"llama3\")\n",
    "model.invoke(\"Come up with 10 names for a song about parrots\")"
   ]
  }
 ],
 "metadata": {
  "kernelspec": {
   "display_name": "Python 3",
   "language": "python",
   "name": "python3"
  },
  "language_info": {
   "codemirror_mode": {
    "name": "ipython",
    "version": 3
   },
   "file_extension": ".py",
   "mimetype": "text/x-python",
   "name": "python",
   "nbconvert_exporter": "python",
   "pygments_lexer": "ipython3",
   "version": "3.11.11"
  }
 },
 "nbformat": 4,
 "nbformat_minor": 2
}
