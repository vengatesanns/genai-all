{
 "cells": [
  {
   "cell_type": "markdown",
   "metadata": {},
   "source": [
    "\n",
    "# Stemming\n",
    "\n"
   ]
  },
  {
   "cell_type": "code",
   "execution_count": 2,
   "metadata": {},
   "outputs": [
    {
     "name": "stdout",
     "output_type": "stream",
     "text": [
      "eaten -> eaten\n",
      "eat -> eat\n",
      "eating -> eat\n",
      "writes -> write\n",
      "written -> written\n",
      "congratulations -> congratul\n"
     ]
    }
   ],
   "source": [
    "## PortStemmer\n",
    "\n",
    "from nltk.stem import PorterStemmer\n",
    "\n",
    "words =  [\"eaten\", \"eat\", \"eating\", \"writes\", \"written\", \"congratulations\"]\n",
    "\n",
    "porterStemmer = PorterStemmer()\n",
    "\n",
    "for word in words:\n",
    "    print(f\"{word} -> {porterStemmer.stem(word)}\")\n"
   ]
  },
  {
   "cell_type": "code",
   "execution_count": 3,
   "metadata": {},
   "outputs": [
    {
     "name": "stdout",
     "output_type": "stream",
     "text": [
      "eaten -> eaten\n",
      "eat -> eat\n",
      "eating -> eat\n",
      "writes -> write\n",
      "written -> written\n",
      "congratulations -> congratulation\n"
     ]
    }
   ],
   "source": [
    "## RegexpStemmer\n",
    "\n",
    "from nltk.stem import RegexpStemmer\n",
    "\n",
    "regexpStemmer = RegexpStemmer(\"ing$|s$|ed$\", min=4)\n",
    "\n",
    "for word in words:\n",
    "    print(f\"{word} -> {regexpStemmer.stem(word)}\")"
   ]
  },
  {
   "cell_type": "code",
   "execution_count": 4,
   "metadata": {},
   "outputs": [
    {
     "name": "stdout",
     "output_type": "stream",
     "text": [
      "eaten -> eaten\n",
      "eat -> eat\n",
      "eating -> eat\n",
      "writes -> write\n",
      "written -> written\n",
      "congratulations -> congratul\n"
     ]
    }
   ],
   "source": [
    "## SnowballStemmer\n",
    "\n",
    "from nltk.stem import SnowballStemmer\n",
    "\n",
    "snowballStemmer = SnowballStemmer(\"english\")\n",
    "\n",
    "for word in words:\n",
    "    print(f\"{word} -> {snowballStemmer.stem(word)}\")"
   ]
  }
 ],
 "metadata": {
  "kernelspec": {
   "display_name": "genaivenv",
   "language": "python",
   "name": "python3"
  },
  "language_info": {
   "codemirror_mode": {
    "name": "ipython",
    "version": 3
   },
   "file_extension": ".py",
   "mimetype": "text/x-python",
   "name": "python",
   "nbconvert_exporter": "python",
   "pygments_lexer": "ipython3",
   "version": "3.12.8"
  }
 },
 "nbformat": 4,
 "nbformat_minor": 2
}
