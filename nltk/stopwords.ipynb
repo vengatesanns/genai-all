{
 "cells": [
  {
   "cell_type": "markdown",
   "metadata": {},
   "source": [
    "# Stop Words"
   ]
  },
  {
   "cell_type": "code",
   "execution_count": 17,
   "metadata": {},
   "outputs": [
    {
     "name": "stdout",
     "output_type": "stream",
     "text": [
      "paris , capital city france , renowned its rich history , stunning architecture , vibrant culture . often referred as `` city light , '' paris home some world 's iconic landmarks , including eiffel tower , notre-dame cathedral , louvre museum . city 's streets lined charming cafes , boutiques , bistros , offering quintessential parisian experience . paris also hub art fashion , hosting numerous galleries , fashion shows , cultural events throughout year . seine river , flows the heart the city , adds its romantic allure , picturesque bridges scenic riverbanks . visitors enjoy leisurely boat cruises , explore historic neighborhoods like montmartre le marais , simply stroll along the champs-élysées . paris 's culinary scene equally impressive , boasting wide array gourmet restaurants , patisseries , markets cater every palate . the bustling atmosphere the latin quarter the serene beauty the luxembourg gardens , paris offers unique blend old-world charm modern sophistication . whether 're art enthusiast , history buff , a foodie , paris something offer everyone , making a must-visit destination travelers around the globe .\n"
     ]
    }
   ],
   "source": [
    "from nltk.stem import SnowballStemmer\n",
    "from nltk.corpus import stopwords\n",
    "from nltk.tokenize import word_tokenize\n",
    "\n",
    "# Create a Snowball stemmer\n",
    "snowballStemmer = SnowballStemmer(\"english\")\n",
    "\n",
    "# Generate a paragraph about Paris\n",
    "paragraph = \"\"\"\n",
    "Paris, the capital city of France, is renowned for its rich history, stunning architecture, \n",
    "and vibrant culture. Often referred to as \"The City of Light,\n",
    "\" Paris is home to some of the world's most iconic landmarks, including the Eiffel Tower, \n",
    "Notre-Dame Cathedral, and the Louvre Museum. The city's streets are lined with charming cafes, \n",
    "boutiques, and bistros, offering a quintessential Parisian experience. Paris is also a hub for art and fashion, \n",
    "hosting numerous galleries, fashion shows, and cultural events throughout the year. The Seine River, \n",
    "which flows through the heart of the city, adds to its romantic allure, with picturesque bridges and scenic riverbanks.\n",
    "Visitors can enjoy leisurely boat cruises, explore historic neighborhoods like Montmartre and Le Marais, \n",
    "or simply stroll along the Champs-Élysées. Paris's culinary scene is equally impressive, boasting a wide array \n",
    "of gourmet restaurants, patisseries, and markets that cater to every palate. From the bustling atmosphere \n",
    "of the Latin Quarter to the serene beauty of the Luxembourg Gardens, Paris offers a unique blend of old-world charm \n",
    "and modern sophistication. Whether you're an art enthusiast, a history buff, or a foodie, Paris has something to offer everyone, \n",
    "making it a must-visit destination for travelers from around the globe.\n",
    "\"\"\"\n",
    "\n",
    "# Tokenize the paragraph\n",
    "words = word_tokenize(paragraph)\n",
    "cleaned_paragraph = [word.lower() for word in words]\n",
    "\n",
    "# Remove the Stop words\n",
    "stop_words = set(stopwords.words('english'))\n",
    "\n",
    "for word in cleaned_paragraph:\n",
    "    if word in stop_words:\n",
    "        cleaned_paragraph.remove(word)\n",
    "\n",
    "# Final Paragraph\n",
    "final_paragraph = ' '.join(cleaned_paragraph)\n",
    "\n",
    "print(final_paragraph)"
   ]
  }
 ],
 "metadata": {
  "kernelspec": {
   "display_name": "genaivenv",
   "language": "python",
   "name": "python3"
  },
  "language_info": {
   "codemirror_mode": {
    "name": "ipython",
    "version": 3
   },
   "file_extension": ".py",
   "mimetype": "text/x-python",
   "name": "python",
   "nbconvert_exporter": "python",
   "pygments_lexer": "ipython3",
   "version": "3.12.8"
  }
 },
 "nbformat": 4,
 "nbformat_minor": 2
}
